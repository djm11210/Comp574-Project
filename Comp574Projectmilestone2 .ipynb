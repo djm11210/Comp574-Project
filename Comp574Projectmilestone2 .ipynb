{
 "metadata": {
  "language_info": {
   "codemirror_mode": {
    "name": "ipython",
    "version": 3
   },
   "file_extension": ".py",
   "mimetype": "text/x-python",
   "name": "python",
   "nbconvert_exporter": "python",
   "pygments_lexer": "ipython3",
   "version": "3.8.5"
  },
  "orig_nbformat": 2,
  "kernelspec": {
   "name": "python385jvsc74a57bd0db230376998f3d099ec9e854bc954421de6c7630190b61755a85202619a27618",
   "display_name": "Python 3.8.5 64-bit ('base': conda)"
  }
 },
 "nbformat": 4,
 "nbformat_minor": 2,
 "cells": [
  {
   "cell_type": "code",
   "execution_count": 1,
   "metadata": {},
   "outputs": [
    {
     "output_type": "stream",
     "name": "stdout",
     "text": [
      "Requirement already satisfied: requests in /home/djm1121/anaconda3/lib/python3.8/site-packages (2.24.0)\n",
      "Requirement already satisfied: chardet<4,>=3.0.2 in /home/djm1121/anaconda3/lib/python3.8/site-packages (from requests) (3.0.4)\n",
      "Requirement already satisfied: idna<3,>=2.5 in /home/djm1121/anaconda3/lib/python3.8/site-packages (from requests) (2.10)\n",
      "Requirement already satisfied: urllib3!=1.25.0,!=1.25.1,<1.26,>=1.21.1 in /home/djm1121/anaconda3/lib/python3.8/site-packages (from requests) (1.25.11)\n",
      "Requirement already satisfied: certifi>=2017.4.17 in /home/djm1121/anaconda3/lib/python3.8/site-packages (from requests) (2020.6.20)\n",
      "Note: you may need to restart the kernel to use updated packages.\n"
     ]
    }
   ],
   "source": [
    "pip install requests"
   ]
  },
  {
   "cell_type": "code",
   "execution_count": 2,
   "metadata": {},
   "outputs": [
    {
     "output_type": "stream",
     "name": "stdout",
     "text": [
      "Requirement already satisfied: google-cloud-storage in /home/djm1121/anaconda3/lib/python3.8/site-packages (1.37.1)\n",
      "Requirement already satisfied: google-auth<2.0dev,>=1.11.0 in /home/djm1121/anaconda3/lib/python3.8/site-packages (from google-cloud-storage) (1.29.0)\n",
      "Requirement already satisfied: requests<3.0.0dev,>=2.18.0 in /home/djm1121/anaconda3/lib/python3.8/site-packages (from google-cloud-storage) (2.24.0)\n",
      "Requirement already satisfied: google-cloud-core<2.0dev,>=1.4.1 in /home/djm1121/anaconda3/lib/python3.8/site-packages (from google-cloud-storage) (1.6.0)\n",
      "Requirement already satisfied: google-resumable-media<2.0dev,>=1.2.0 in /home/djm1121/anaconda3/lib/python3.8/site-packages (from google-cloud-storage) (1.2.0)\n",
      "Requirement already satisfied: six>=1.9.0 in /home/djm1121/anaconda3/lib/python3.8/site-packages (from google-auth<2.0dev,>=1.11.0->google-cloud-storage) (1.15.0)\n",
      "Requirement already satisfied: setuptools>=40.3.0 in /home/djm1121/anaconda3/lib/python3.8/site-packages (from google-auth<2.0dev,>=1.11.0->google-cloud-storage) (50.3.1.post20201107)\n",
      "Requirement already satisfied: rsa<5,>=3.1.4; python_version >= \"3.6\" in /home/djm1121/anaconda3/lib/python3.8/site-packages (from google-auth<2.0dev,>=1.11.0->google-cloud-storage) (4.7.2)\n",
      "Requirement already satisfied: pyasn1-modules>=0.2.1 in /home/djm1121/anaconda3/lib/python3.8/site-packages (from google-auth<2.0dev,>=1.11.0->google-cloud-storage) (0.2.8)\n",
      "Requirement already satisfied: cachetools<5.0,>=2.0.0 in /home/djm1121/anaconda3/lib/python3.8/site-packages (from google-auth<2.0dev,>=1.11.0->google-cloud-storage) (4.2.1)\n",
      "Requirement already satisfied: idna<3,>=2.5 in /home/djm1121/anaconda3/lib/python3.8/site-packages (from requests<3.0.0dev,>=2.18.0->google-cloud-storage) (2.10)\n",
      "Requirement already satisfied: urllib3!=1.25.0,!=1.25.1,<1.26,>=1.21.1 in /home/djm1121/anaconda3/lib/python3.8/site-packages (from requests<3.0.0dev,>=2.18.0->google-cloud-storage) (1.25.11)\n",
      "Requirement already satisfied: chardet<4,>=3.0.2 in /home/djm1121/anaconda3/lib/python3.8/site-packages (from requests<3.0.0dev,>=2.18.0->google-cloud-storage) (3.0.4)\n",
      "Requirement already satisfied: certifi>=2017.4.17 in /home/djm1121/anaconda3/lib/python3.8/site-packages (from requests<3.0.0dev,>=2.18.0->google-cloud-storage) (2020.6.20)\n",
      "Requirement already satisfied: google-api-core<2.0.0dev,>=1.21.0 in /home/djm1121/anaconda3/lib/python3.8/site-packages (from google-cloud-core<2.0dev,>=1.4.1->google-cloud-storage) (1.26.3)\n",
      "Requirement already satisfied: google-crc32c<2.0dev,>=1.0; python_version >= \"3.5\" in /home/djm1121/anaconda3/lib/python3.8/site-packages (from google-resumable-media<2.0dev,>=1.2.0->google-cloud-storage) (1.1.2)\n",
      "Requirement already satisfied: pyasn1>=0.1.3 in /home/djm1121/anaconda3/lib/python3.8/site-packages (from rsa<5,>=3.1.4; python_version >= \"3.6\"->google-auth<2.0dev,>=1.11.0->google-cloud-storage) (0.4.8)\n",
      "Requirement already satisfied: pytz in /home/djm1121/anaconda3/lib/python3.8/site-packages (from google-api-core<2.0.0dev,>=1.21.0->google-cloud-core<2.0dev,>=1.4.1->google-cloud-storage) (2020.1)\n",
      "Requirement already satisfied: protobuf>=3.12.0 in /home/djm1121/anaconda3/lib/python3.8/site-packages (from google-api-core<2.0.0dev,>=1.21.0->google-cloud-core<2.0dev,>=1.4.1->google-cloud-storage) (3.15.8)\n",
      "Requirement already satisfied: googleapis-common-protos<2.0dev,>=1.6.0 in /home/djm1121/anaconda3/lib/python3.8/site-packages (from google-api-core<2.0.0dev,>=1.21.0->google-cloud-core<2.0dev,>=1.4.1->google-cloud-storage) (1.53.0)\n",
      "Requirement already satisfied: packaging>=14.3 in /home/djm1121/anaconda3/lib/python3.8/site-packages (from google-api-core<2.0.0dev,>=1.21.0->google-cloud-core<2.0dev,>=1.4.1->google-cloud-storage) (20.4)\n",
      "Requirement already satisfied: cffi>=1.0.0 in /home/djm1121/anaconda3/lib/python3.8/site-packages (from google-crc32c<2.0dev,>=1.0; python_version >= \"3.5\"->google-resumable-media<2.0dev,>=1.2.0->google-cloud-storage) (1.14.3)\n",
      "Requirement already satisfied: pyparsing>=2.0.2 in /home/djm1121/anaconda3/lib/python3.8/site-packages (from packaging>=14.3->google-api-core<2.0.0dev,>=1.21.0->google-cloud-core<2.0dev,>=1.4.1->google-cloud-storage) (2.4.7)\n",
      "Requirement already satisfied: pycparser in /home/djm1121/anaconda3/lib/python3.8/site-packages (from cffi>=1.0.0->google-crc32c<2.0dev,>=1.0; python_version >= \"3.5\"->google-resumable-media<2.0dev,>=1.2.0->google-cloud-storage) (2.20)\n",
      "Note: you may need to restart the kernel to use updated packages.\n"
     ]
    }
   ],
   "source": [
    "pip install google-cloud-storage"
   ]
  },
  {
   "cell_type": "code",
   "execution_count": 3,
   "metadata": {},
   "outputs": [
    {
     "output_type": "stream",
     "name": "stdout",
     "text": [
      "Requirement already up-to-date: google-cloud-bigquery in /home/djm1121/anaconda3/lib/python3.8/site-packages (2.13.1)\n",
      "Requirement already satisfied, skipping upgrade: packaging>=14.3 in /home/djm1121/anaconda3/lib/python3.8/site-packages (from google-cloud-bigquery) (20.4)\n",
      "Requirement already satisfied, skipping upgrade: google-api-core[grpc]<2.0.0dev,>=1.23.0 in /home/djm1121/anaconda3/lib/python3.8/site-packages (from google-cloud-bigquery) (1.26.3)\n",
      "Requirement already satisfied, skipping upgrade: google-cloud-core<2.0dev,>=1.4.1 in /home/djm1121/anaconda3/lib/python3.8/site-packages (from google-cloud-bigquery) (1.6.0)\n",
      "Requirement already satisfied, skipping upgrade: proto-plus>=1.10.0 in /home/djm1121/anaconda3/lib/python3.8/site-packages (from google-cloud-bigquery) (1.18.1)\n",
      "Requirement already satisfied, skipping upgrade: protobuf>=3.12.0 in /home/djm1121/anaconda3/lib/python3.8/site-packages (from google-cloud-bigquery) (3.15.8)\n",
      "Requirement already satisfied, skipping upgrade: google-resumable-media<2.0dev,>=0.6.0 in /home/djm1121/anaconda3/lib/python3.8/site-packages (from google-cloud-bigquery) (1.2.0)\n",
      "Requirement already satisfied, skipping upgrade: requests<3.0.0dev,>=2.18.0 in /home/djm1121/anaconda3/lib/python3.8/site-packages (from google-cloud-bigquery) (2.24.0)\n",
      "Requirement already satisfied, skipping upgrade: pyparsing>=2.0.2 in /home/djm1121/anaconda3/lib/python3.8/site-packages (from packaging>=14.3->google-cloud-bigquery) (2.4.7)\n",
      "Requirement already satisfied, skipping upgrade: six in /home/djm1121/anaconda3/lib/python3.8/site-packages (from packaging>=14.3->google-cloud-bigquery) (1.15.0)\n",
      "Requirement already satisfied, skipping upgrade: googleapis-common-protos<2.0dev,>=1.6.0 in /home/djm1121/anaconda3/lib/python3.8/site-packages (from google-api-core[grpc]<2.0.0dev,>=1.23.0->google-cloud-bigquery) (1.53.0)\n",
      "Requirement already satisfied, skipping upgrade: setuptools>=40.3.0 in /home/djm1121/anaconda3/lib/python3.8/site-packages (from google-api-core[grpc]<2.0.0dev,>=1.23.0->google-cloud-bigquery) (50.3.1.post20201107)\n",
      "Requirement already satisfied, skipping upgrade: pytz in /home/djm1121/anaconda3/lib/python3.8/site-packages (from google-api-core[grpc]<2.0.0dev,>=1.23.0->google-cloud-bigquery) (2020.1)\n",
      "Requirement already satisfied, skipping upgrade: google-auth<2.0dev,>=1.21.1 in /home/djm1121/anaconda3/lib/python3.8/site-packages (from google-api-core[grpc]<2.0.0dev,>=1.23.0->google-cloud-bigquery) (1.29.0)\n",
      "Requirement already satisfied, skipping upgrade: grpcio<2.0dev,>=1.29.0; extra == \"grpc\" in /home/djm1121/anaconda3/lib/python3.8/site-packages (from google-api-core[grpc]<2.0.0dev,>=1.23.0->google-cloud-bigquery) (1.37.0)\n",
      "Requirement already satisfied, skipping upgrade: google-crc32c<2.0dev,>=1.0; python_version >= \"3.5\" in /home/djm1121/anaconda3/lib/python3.8/site-packages (from google-resumable-media<2.0dev,>=0.6.0->google-cloud-bigquery) (1.1.2)\n",
      "Requirement already satisfied, skipping upgrade: certifi>=2017.4.17 in /home/djm1121/anaconda3/lib/python3.8/site-packages (from requests<3.0.0dev,>=2.18.0->google-cloud-bigquery) (2020.6.20)\n",
      "Requirement already satisfied, skipping upgrade: chardet<4,>=3.0.2 in /home/djm1121/anaconda3/lib/python3.8/site-packages (from requests<3.0.0dev,>=2.18.0->google-cloud-bigquery) (3.0.4)\n",
      "Requirement already satisfied, skipping upgrade: idna<3,>=2.5 in /home/djm1121/anaconda3/lib/python3.8/site-packages (from requests<3.0.0dev,>=2.18.0->google-cloud-bigquery) (2.10)\n",
      "Requirement already satisfied, skipping upgrade: urllib3!=1.25.0,!=1.25.1,<1.26,>=1.21.1 in /home/djm1121/anaconda3/lib/python3.8/site-packages (from requests<3.0.0dev,>=2.18.0->google-cloud-bigquery) (1.25.11)\n",
      "Requirement already satisfied, skipping upgrade: pyasn1-modules>=0.2.1 in /home/djm1121/anaconda3/lib/python3.8/site-packages (from google-auth<2.0dev,>=1.21.1->google-api-core[grpc]<2.0.0dev,>=1.23.0->google-cloud-bigquery) (0.2.8)\n",
      "Requirement already satisfied, skipping upgrade: rsa<5,>=3.1.4; python_version >= \"3.6\" in /home/djm1121/anaconda3/lib/python3.8/site-packages (from google-auth<2.0dev,>=1.21.1->google-api-core[grpc]<2.0.0dev,>=1.23.0->google-cloud-bigquery) (4.7.2)\n",
      "Requirement already satisfied, skipping upgrade: cachetools<5.0,>=2.0.0 in /home/djm1121/anaconda3/lib/python3.8/site-packages (from google-auth<2.0dev,>=1.21.1->google-api-core[grpc]<2.0.0dev,>=1.23.0->google-cloud-bigquery) (4.2.1)\n",
      "Requirement already satisfied, skipping upgrade: cffi>=1.0.0 in /home/djm1121/anaconda3/lib/python3.8/site-packages (from google-crc32c<2.0dev,>=1.0; python_version >= \"3.5\"->google-resumable-media<2.0dev,>=0.6.0->google-cloud-bigquery) (1.14.3)\n",
      "Requirement already satisfied, skipping upgrade: pyasn1<0.5.0,>=0.4.6 in /home/djm1121/anaconda3/lib/python3.8/site-packages (from pyasn1-modules>=0.2.1->google-auth<2.0dev,>=1.21.1->google-api-core[grpc]<2.0.0dev,>=1.23.0->google-cloud-bigquery) (0.4.8)\n",
      "Requirement already satisfied, skipping upgrade: pycparser in /home/djm1121/anaconda3/lib/python3.8/site-packages (from cffi>=1.0.0->google-crc32c<2.0dev,>=1.0; python_version >= \"3.5\"->google-resumable-media<2.0dev,>=0.6.0->google-cloud-bigquery) (2.20)\n",
      "Note: you may need to restart the kernel to use updated packages.\n"
     ]
    }
   ],
   "source": [
    "pip install --upgrade google-cloud-bigquery"
   ]
  },
  {
   "cell_type": "code",
   "execution_count": 4,
   "metadata": {},
   "outputs": [],
   "source": [
    "import requests\n",
    "import json\n",
    "import csv\n",
    "from google.cloud import bigquery\n",
    "from google.oauth2 import service_account\n",
    "from google.cloud import storage\n",
    "from io import StringIO\n",
    "import pandas as pd"
   ]
  },
  {
   "cell_type": "code",
   "execution_count": 45,
   "metadata": {},
   "outputs": [
    {
     "output_type": "execute_result",
     "data": {
      "text/plain": [
       "Empty DataFrame\n",
       "Columns: [{\"data\":[{\"id\":1069008, ast:0, blk:1, dreb:2, fg3_pct:0.2, fg3a:5, fg3m:1, fg_pct:0.333, fga:9, fgm:3, ft_pct:0.0, fta:0, ftm:0, game:{\"id\":45237, date:\"2019-01-17T00:00:00.000Z\", home_team_id:4, home_team_score:114, period:4, postseason:false, season:2018, status:\"Final\", time:\" \", visitor_team_id:26, visitor_team_score:95}, min:\"20:08\", oreb:0, pf:0, player:{\"id\":415, first_name:\"Iman\", height_feet:6, height_inches:5, last_name:\"Shumpert\", position:\"G\", team_id:3, weight_pounds:215}, pts:7, reb:2, stl:0, team:{\"id\":26, abbreviation:\"SAC\", city:\"Sacramento\", conference:\"West\", division:\"Pacific\", full_name:\"Sacramento Kings\", name:\"Kings\"}, turnover:2}, {\"id\":1069009, ast:4, blk:0, dreb:5, fg3_pct:0.0, fg3a:2, fg3m:0, fg_pct:0.2, fga:5, fgm:1, ft_pct:0.0.1, fta:0.1, ftm:0.1, game:{\"id\":45237.1, date:\"2019-01-17T00:00:00.000Z\".1, home_team_id:4.1, home_team_score:114.1, period:4.1, postseason:false.1, season:2018.1, status:\"Final\".1, time:\" \".1, visitor_team_id:26.1, visitor_team_score:95}.1, min:\"19:22\", oreb:1, pf:1, player:{\"id\":49, first_name:\"Nemanja\", height_feet:6.1, height_inches:10, last_name:\"Bjelica\", position:\"F\", team_id:16, weight_pounds:234}, pts:2, reb:6, stl:0.1, team:{\"id\":26.1, abbreviation:\"SAC\".1, city:\"Sacramento\".1, conference:\"West\".1, division:\"Pacific\".1, full_name:\"Sacramento Kings\".1, name:\"Kings\"}.1, turnover:0}, {\"id\":1069010, ast:4.1, blk:1.1, dreb:5.1, fg3_pct:0.0.1, fg3a:0, fg3m:0.1, fg_pct:0.667, ...]\n",
       "Index: []\n",
       "\n",
       "[0 rows x 2302 columns]"
      ],
      "text/html": "<div>\n<style scoped>\n    .dataframe tbody tr th:only-of-type {\n        vertical-align: middle;\n    }\n\n    .dataframe tbody tr th {\n        vertical-align: top;\n    }\n\n    .dataframe thead th {\n        text-align: right;\n    }\n</style>\n<table border=\"1\" class=\"dataframe\">\n  <thead>\n    <tr style=\"text-align: right;\">\n      <th></th>\n      <th>{\"data\":[{\"id\":1069008</th>\n      <th>ast:0</th>\n      <th>blk:1</th>\n      <th>dreb:2</th>\n      <th>fg3_pct:0.2</th>\n      <th>fg3a:5</th>\n      <th>fg3m:1</th>\n      <th>fg_pct:0.333</th>\n      <th>fga:9</th>\n      <th>fgm:3</th>\n      <th>...</th>\n      <th>conference:\"West\".63</th>\n      <th>division:\"Southwest\".16</th>\n      <th>full_name:\"San Antonio Spurs\".2</th>\n      <th>name:\"Spurs\"}.2</th>\n      <th>visitor_team_score:108}]</th>\n      <th>meta:{\"total_pages\":1990</th>\n      <th>current_page:1.3</th>\n      <th>next_page:2.2</th>\n      <th>per_page:25.2</th>\n      <th>total_count:49747}}{\"data\":[]}</th>\n    </tr>\n  </thead>\n  <tbody>\n  </tbody>\n</table>\n<p>0 rows × 2302 columns</p>\n</div>"
     },
     "metadata": {},
     "execution_count": 45
    }
   ],
   "source": [
    "storage_client = storage.Client.from_service_account_json(\"/home/djm1121/comp574/Project/algebraic-notch-307123-92569cbea149.json\")\n",
    "bucket = storage_client.get_bucket(\"compproject\")\n",
    "blob = bucket.get_blob(\"data.csv\")\n",
    "bt = blob.download_as_string()\n",
    "s = str(bt, 'utf-8')\n",
    "s = StringIO(s)\n",
    "df = pd.read_csv(s)\n",
    "df.head()"
   ]
  },
  {
   "cell_type": "code",
   "execution_count": 6,
   "metadata": {},
   "outputs": [],
   "source": [
    "stats= requests.get('https://www.balldontlie.io/api/v1/stats')"
   ]
  },
  {
   "cell_type": "code",
   "execution_count": 7,
   "metadata": {},
   "outputs": [],
   "source": [
    "players= requests.get('https://www.balldontlie.io/api/v1/players')"
   ]
  },
  {
   "cell_type": "code",
   "execution_count": 8,
   "metadata": {},
   "outputs": [],
   "source": [
    "specificplayer= requests.get('https://www.balldontlie.io/api/v1/players/<ID>')"
   ]
  },
  {
   "cell_type": "code",
   "execution_count": 9,
   "metadata": {},
   "outputs": [],
   "source": [
    "teams= requests.get('https://www.balldontlie.io/api/v1/teams')"
   ]
  },
  {
   "cell_type": "code",
   "execution_count": 10,
   "metadata": {},
   "outputs": [],
   "source": [
    "specificteam= requests.get('https://www.balldontlie.io/api/v1/players/<ID>')"
   ]
  },
  {
   "cell_type": "code",
   "execution_count": 11,
   "metadata": {},
   "outputs": [],
   "source": [
    "games= requests.get('https://www.balldontlie.io/api/v1/games')"
   ]
  },
  {
   "cell_type": "code",
   "execution_count": 12,
   "metadata": {},
   "outputs": [],
   "source": [
    "specificgame=requests.get('https://www.balldontlie.io/api/v1/games/<ID>')"
   ]
  },
  {
   "cell_type": "code",
   "execution_count": 13,
   "metadata": {},
   "outputs": [],
   "source": [
    "seasonaverages=requests.get('https://www.balldontlie.io/api/v1/season_averages')"
   ]
  },
  {
   "cell_type": "code",
   "execution_count": 14,
   "metadata": {},
   "outputs": [],
   "source": [
    "nbastats=stats.text"
   ]
  },
  {
   "cell_type": "code",
   "execution_count": 15,
   "metadata": {},
   "outputs": [],
   "source": [
    "nbaplayers=players.text"
   ]
  },
  {
   "cell_type": "code",
   "execution_count": 16,
   "metadata": {},
   "outputs": [],
   "source": [
    "nbaspecificplayer=specificplayer.text"
   ]
  },
  {
   "cell_type": "code",
   "execution_count": 17,
   "metadata": {},
   "outputs": [],
   "source": [
    "nbateams=teams.text"
   ]
  },
  {
   "cell_type": "code",
   "execution_count": 18,
   "metadata": {},
   "outputs": [],
   "source": [
    "nbaspecificteam=specificteam.text"
   ]
  },
  {
   "cell_type": "code",
   "execution_count": 19,
   "metadata": {},
   "outputs": [],
   "source": [
    "nbagames=games.text"
   ]
  },
  {
   "cell_type": "code",
   "execution_count": 20,
   "metadata": {},
   "outputs": [],
   "source": [
    "nbaspecificgame=specificgame.text"
   ]
  },
  {
   "cell_type": "code",
   "execution_count": 21,
   "metadata": {},
   "outputs": [],
   "source": [
    "nbaseasonaverages=seasonaverages.text"
   ]
  },
  {
   "cell_type": "code",
   "execution_count": 22,
   "metadata": {},
   "outputs": [],
   "source": [
    "data_csv=open('data.csv','w')"
   ]
  },
  {
   "cell_type": "code",
   "execution_count": 23,
   "metadata": {},
   "outputs": [
    {
     "output_type": "execute_result",
     "data": {
      "text/plain": [
       "17685"
      ]
     },
     "metadata": {},
     "execution_count": 23
    }
   ],
   "source": [
    "data_csv.write(nbastats)"
   ]
  },
  {
   "cell_type": "code",
   "execution_count": 24,
   "metadata": {},
   "outputs": [
    {
     "output_type": "execute_result",
     "data": {
      "text/plain": [
       "6943"
      ]
     },
     "metadata": {},
     "execution_count": 24
    }
   ],
   "source": [
    "data_csv.write(nbaplayers)"
   ]
  },
  {
   "cell_type": "code",
   "execution_count": 25,
   "metadata": {},
   "outputs": [
    {
     "output_type": "execute_result",
     "data": {
      "text/plain": [
       "4252"
      ]
     },
     "metadata": {},
     "execution_count": 25
    }
   ],
   "source": [
    "data_csv.write(nbateams)"
   ]
  },
  {
   "cell_type": "code",
   "execution_count": 26,
   "metadata": {},
   "outputs": [
    {
     "output_type": "execute_result",
     "data": {
      "text/plain": [
       "0"
      ]
     },
     "metadata": {},
     "execution_count": 26
    }
   ],
   "source": [
    "data_csv.write(nbaspecificteam)"
   ]
  },
  {
   "cell_type": "code",
   "execution_count": 27,
   "metadata": {},
   "outputs": [
    {
     "output_type": "execute_result",
     "data": {
      "text/plain": [
       "11924"
      ]
     },
     "metadata": {},
     "execution_count": 27
    }
   ],
   "source": [
    "data_csv.write(nbagames)"
   ]
  },
  {
   "cell_type": "code",
   "execution_count": 28,
   "metadata": {},
   "outputs": [
    {
     "output_type": "execute_result",
     "data": {
      "text/plain": [
       "0"
      ]
     },
     "metadata": {},
     "execution_count": 28
    }
   ],
   "source": [
    "data_csv.write(nbaspecificgame)"
   ]
  },
  {
   "cell_type": "code",
   "execution_count": 29,
   "metadata": {},
   "outputs": [
    {
     "output_type": "execute_result",
     "data": {
      "text/plain": [
       "11"
      ]
     },
     "metadata": {},
     "execution_count": 29
    }
   ],
   "source": [
    "data_csv.write(nbaseasonaverages)"
   ]
  },
  {
   "cell_type": "code",
   "execution_count": 30,
   "metadata": {},
   "outputs": [],
   "source": [
    "data_csv.close()"
   ]
  },
  {
   "cell_type": "code",
   "execution_count": 31,
   "metadata": {},
   "outputs": [
    {
     "output_type": "stream",
     "name": "stdout",
     "text": [
      "Object `seasons[]=2018&seasons[]=2015&player_ids[]=1&player_ids[]=2&postseason=true` not found.\n"
     ]
    }
   ],
   "source": [
    "?seasons[]=2018&seasons[]=2015&player_ids[]=1&player_ids[]=2&postseason=true"
   ]
  },
  {
   "cell_type": "code",
   "execution_count": null,
   "metadata": {},
   "outputs": [],
   "source": []
  }
 ]
}